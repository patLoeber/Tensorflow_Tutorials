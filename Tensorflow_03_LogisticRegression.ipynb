{
 "cells": [
  {
   "cell_type": "code",
   "execution_count": 280,
   "metadata": {},
   "outputs": [],
   "source": [
    "import tensorflow as tf\n",
    "import pandas as pd\n",
    "import numpy as np\n",
    "import time\n",
    "from sklearn.datasets import load_iris\n",
    "from sklearn.model_selection import train_test_split\n",
    "import matplotlib.pyplot as plt\n",
    "%matplotlib inline"
   ]
  },
  {
   "cell_type": "code",
   "execution_count": 281,
   "metadata": {},
   "outputs": [
    {
     "name": "stdout",
     "output_type": "stream",
     "text": [
      "(149, 4)\n",
      "(149, 3)\n",
      "[[5.1 3.5 1.4 0.2]\n",
      " [4.9 3.  1.4 0.2]\n",
      " [4.7 3.2 1.3 0.2]\n",
      " [4.6 3.1 1.5 0.2]\n",
      " [5.  3.6 1.4 0.2]]\n",
      "[[1 0 0]\n",
      " [1 0 0]\n",
      " [1 0 0]\n",
      " [1 0 0]\n",
      " [1 0 0]]\n"
     ]
    }
   ],
   "source": [
    "iris = load_iris()\n",
    "iris_X, iris_y = iris.data[:-1,:], iris.target[:-1]\n",
    "iris_y = pd.get_dummies(iris_y).values # Convert categorical variable into dummy/indicator variables\n",
    "trainX, testX, trainY, testY = train_test_split(iris_X, iris_y, test_size=0.33, random_state=42)\n",
    "print(iris_X.shape)\n",
    "print(iris_y.shape)\n",
    "print(iris_X[0:5, :])\n",
    "print(iris_y[0:5, :])"
   ]
  },
  {
   "cell_type": "code",
   "execution_count": 282,
   "metadata": {},
   "outputs": [],
   "source": [
    "# Placeholder\n",
    "numFeatures = trainX.shape[1]\n",
    "numLabels = trainY.shape[1]\n",
    "X = tf.placeholder(tf.float32, [None,numFeatures])\n",
    "yGold = tf.placeholder(tf.float32, [None, numLabels])"
   ]
  },
  {
   "cell_type": "code",
   "execution_count": 283,
   "metadata": {},
   "outputs": [],
   "source": [
    "# Set model Variables: F = Wx + b\n",
    "#W = tf.Variable(tf.zeros([numFeatures, numLabels]))\n",
    "#b = tf.Variable(tf.zeros([numLabels]))\n",
    "weights = tf.Variable(tf.random_normal([numFeatures, numLabels],\n",
    "                                        mean=0,\n",
    "                                        stddev=0.01,\n",
    "                                        name=\"weights\"))\n",
    "bias = tf.Variable(tf.random_normal([1, numLabels],\n",
    "                                        mean=0,\n",
    "                                        stddev=0.01,\n",
    "                                        name=\"bias\"))"
   ]
  },
  {
   "cell_type": "code",
   "execution_count": 284,
   "metadata": {},
   "outputs": [],
   "source": [
    "# Logistic regression model with sigmoid function 1 / 1 + exp(-F)\n",
    "op1 = tf.matmul(X, weights)\n",
    "op2 = tf.add(op1, bias)\n",
    "sigmoid = tf.nn.sigmoid(op2)"
   ]
  },
  {
   "cell_type": "code",
   "execution_count": 285,
   "metadata": {},
   "outputs": [],
   "source": [
    "# Loss function\n",
    "learning_rate = tf.train.exponential_decay(learning_rate=0.0008,\n",
    "                                          global_step= 1,\n",
    "                                          decay_steps=trainX.shape[0],\n",
    "                                          decay_rate= 0.95,\n",
    "                                          staircase=True)\n",
    "learning_rate = 0.001\n",
    "loss = tf.nn.l2_loss(sigmoid-yGold)\n",
    "train = tf.train.GradientDescentOptimizer(learning_rate).minimize(loss)"
   ]
  },
  {
   "cell_type": "code",
   "execution_count": 286,
   "metadata": {},
   "outputs": [],
   "source": [
    "# Training\n",
    "sess = tf.Session()\n",
    "sess.run(tf.global_variables_initializer())\n",
    "\n",
    "correct_predictions = tf.equal(tf.argmax(sigmoid, axis=1), tf.argmax(yGold, axis=1))\n",
    "accuracy = tf.reduce_mean(tf.cast(correct_predictions, \"float\"))\n",
    "activation_summary = tf.summary.histogram(\"output\", sigmoid)\n",
    "accuracy_summary = tf.summary.scalar(\"accuracy\", accuracy)\n",
    "loss_summary = tf.summary.scalar(\"loss\", loss)\n",
    "weight_summary = tf.summary.histogram(\"weights\", weights.eval(session=sess))\n",
    "bias_summary = tf.summary.histogram(\"bias\", bias.eval(session=sess))\n",
    "\n",
    "merged = tf.summary.merge([activation_summary, accuracy_summary, loss_summary, weight_summary, bias_summary])\n",
    "writer = tf.summary.FileWriter(\"summary_logs\", sess.graph)"
   ]
  },
  {
   "cell_type": "code",
   "execution_count": 287,
   "metadata": {},
   "outputs": [
    {
     "name": "stdout",
     "output_type": "stream",
     "text": [
      "step 0, training accuracy 0.333333, cost 34.1361, change in cost 34.1361\n",
      "step 50, training accuracy 0.646465, cost 22.9592, change in cost 1.16699\n",
      "step 100, training accuracy 0.666667, cost 19.7123, change in cost 0.435232\n",
      "step 150, training accuracy 0.707071, cost 18.2493, change in cost 0.226799\n",
      "step 200, training accuracy 0.787879, cost 17.3833, change in cost 0.146084\n",
      "step 250, training accuracy 0.79798, cost 16.7806, change in cost 0.10677\n",
      "step 300, training accuracy 0.838384, cost 16.3186, change in cost 0.0843048\n",
      "step 350, training accuracy 0.858586, cost 15.9425, change in cost 0.0699081\n",
      "step 400, training accuracy 0.878788, cost 15.6244, change in cost 0.0598679\n",
      "step 450, training accuracy 0.89899, cost 15.3482, change in cost 0.0524244\n",
      "step 500, training accuracy 0.909091, cost 15.104, change in cost 0.0466328\n",
      "step 550, training accuracy 0.909091, cost 14.8852, change in cost 0.0419779\n",
      "step 600, training accuracy 0.909091, cost 14.6871, change in cost 0.0381241\n",
      "step 650, training accuracy 0.909091, cost 14.5064, change in cost 0.0348759\n",
      "final accuracy on test set: 0.94\n"
     ]
    }
   ],
   "source": [
    "# Training loop\n",
    "cost = 0\n",
    "diff = 1\n",
    "epoch_values = []\n",
    "accuracy_values = []\n",
    "loss_values= []\n",
    "epochs = 700\n",
    "\n",
    "for i in range(epochs):\n",
    "    if i > 1 and diff < 0.0001:\n",
    "        print(\"change in cost %g; convergence.\"%diff)\n",
    "        break\n",
    "    else:\n",
    "        step = sess.run(train, feed_dict={X: trainX, yGold: trainY})\n",
    "        if i % 10 == 0:\n",
    "            epoch_values.append(i)\n",
    "            train_acc, new_cost = sess.run([accuracy, loss], feed_dict={X: trainX, yGold: trainY})\n",
    "            accuracy_values.append(train_acc)\n",
    "            loss_values.append(new_cost)\n",
    "            diff = abs(new_cost-cost)\n",
    "            cost = new_cost\n",
    "            if i % 50 == 0:\n",
    "                print(\"step %d, training accuracy %g, cost %g, change in cost %g\"%(i, train_acc, new_cost, diff))\n",
    "\n",
    "final_acc = sess.run(accuracy, feed_dict={X: testX, yGold: testY})            \n",
    "print(\"final accuracy on test set: %s\" %str(final_acc))"
   ]
  },
  {
   "cell_type": "code",
   "execution_count": 288,
   "metadata": {},
   "outputs": [
    {
     "data": {
      "image/png": "[encoded data removed]",
      "text/plain": [
       "<Figure size 432x288 with 1 Axes>"
      ]
     },
     "metadata": {
      "needs_background": "light"
     },
     "output_type": "display_data"
    }
   ],
   "source": [
    "plt.plot(loss_values)\n",
    "plt.show()"
   ]
  }
 ],
 "metadata": {
  "kernelspec": {
   "display_name": "Python (ai_env)",
   "language": "python",
   "name": "ai_env"
  },
  "language_info": {
   "codemirror_mode": {
    "name": "ipython",
    "version": 3
   },
   "file_extension": ".py",
   "mimetype": "text/x-python",
   "name": "python",
   "nbconvert_exporter": "python",
   "pygments_lexer": "ipython3",
   "version": "3.6.8"
  }
 },
 "nbformat": 4,
 "nbformat_minor": 2
}

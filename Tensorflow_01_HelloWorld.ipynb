{
 "cells": [
  {
   "cell_type": "code",
   "execution_count": 1,
   "metadata": {},
   "outputs": [],
   "source": [
    "import tensorflow as tf"
   ]
  },
  {
   "cell_type": "code",
   "execution_count": 2,
   "metadata": {},
   "outputs": [
    {
     "name": "stdout",
     "output_type": "stream",
     "text": [
      "Tensor(\"Const:0\", shape=(), dtype=int32)\n",
      "Tensor(\"Const_1:0\", shape=(1,), dtype=int32)\n",
      "Tensor(\"Const_2:0\", shape=(1,), dtype=int32)\n",
      "Tensor(\"Add:0\", shape=(1,), dtype=int32)\n",
      "[8]\n"
     ]
    }
   ],
   "source": [
    "one = tf.constant(1)\n",
    "print(one)\n",
    "a = tf.constant([3])\n",
    "b = tf.constant([5])\n",
    "print(a)\n",
    "print(b)\n",
    "c = tf.add(a,b)\n",
    "print(c)\n",
    "\n",
    "with tf.Session() as session:\n",
    "    result = session.run(c)\n",
    "    print(result)"
   ]
  },
  {
   "cell_type": "code",
   "execution_count": 3,
   "metadata": {},
   "outputs": [
    {
     "name": "stdout",
     "output_type": "stream",
     "text": [
      "Scalar:\n",
      " [2]\n",
      "Vector:\n",
      " [2 5 8]\n",
      "Matrix:\n",
      " [[1 2 3]\n",
      " [2 3 4]\n",
      " [3 4 5]]\n",
      "Tensor:\n",
      " [[[1 2 3]\n",
      "  [2 3 4]\n",
      "  [3 4 5]]\n",
      "\n",
      " [[3 4 5]\n",
      "  [4 5 6]\n",
      "  [5 6 7]]\n",
      "\n",
      " [[1 3 5]\n",
      "  [3 5 7]\n",
      "  [5 7 9]]]\n"
     ]
    }
   ],
   "source": [
    "# scalars, vectors, matrix, tensors\n",
    "scalar = tf.constant([2])\n",
    "vector = tf.constant([2,5,8])\n",
    "matrix = tf.constant([[1,2,3],[2,3,4],[3,4,5]])\n",
    "tensor = tf.constant([ [[1,2,3],[2,3,4],[3,4,5]], [[3,4,5],[4,5,6],[5,6,7]], [[1,3,5],[3,5,7],[5,7,9]] ])\n",
    "\n",
    "with tf.Session() as session:\n",
    "    result = session.run(scalar)\n",
    "    print(\"Scalar:\\n\", result)\n",
    "    result = session.run(vector)\n",
    "    print(\"Vector:\\n\", result)\n",
    "    result = session.run(matrix)\n",
    "    print(\"Matrix:\\n\", result)\n",
    "    result = session.run(tensor)\n",
    "    print(\"Tensor:\\n\", result)"
   ]
  },
  {
   "cell_type": "code",
   "execution_count": 4,
   "metadata": {},
   "outputs": [
    {
     "name": "stdout",
     "output_type": "stream",
     "text": [
      "Result with tf operation:\n",
      " [[ 6  8 10]\n",
      " [10 12  5]\n",
      " [ 6  5  9]]\n",
      "Result with normal operation:\n",
      " [[ 6  8 10]\n",
      " [10 12  5]\n",
      " [ 6  5  9]]\n",
      "Result of matmul operation:\n",
      " [[27 24 18]\n",
      " [42 39 29]\n",
      " [72 69 51]]\n"
     ]
    }
   ],
   "source": [
    "m1 = tf.constant([[1,2,3],[2,3,4],[4,5,6]])\n",
    "m2 = tf.constant([[5,6,7],[8,9,1],[2,0,3]])\n",
    "op1 = tf.add(m1,m2)\n",
    "op2 = m1 + m2\n",
    "op3 = tf.matmul(m1,m2)\n",
    "with tf.Session() as session:\n",
    "    result = session.run(op1)\n",
    "    print(\"Result with tf operation:\\n\", result)\n",
    "    result = session.run(op2)\n",
    "    print(\"Result with normal operation:\\n\", result)\n",
    "    result = session.run(op3)\n",
    "    print(\"Result of matmul operation:\\n\", result)"
   ]
  },
  {
   "cell_type": "code",
   "execution_count": 5,
   "metadata": {},
   "outputs": [
    {
     "name": "stdout",
     "output_type": "stream",
     "text": [
      "WARNING:tensorflow:From D:\\ProgramsMine\\Anaconda3\\envs\\ai_env\\lib\\site-packages\\tensorflow\\python\\framework\\op_def_library.py:263: colocate_with (from tensorflow.python.framework.ops) is deprecated and will be removed in a future version.\n",
      "Instructions for updating:\n",
      "Colocations handled automatically by placer.\n",
      "0\n",
      "1\n",
      "2\n",
      "3\n"
     ]
    }
   ],
   "source": [
    "# Variables, are updated during optimization. Need initialization\n",
    "state = tf.Variable(0)\n",
    "one = tf.constant(1)\n",
    "new_value = tf.add(state, one)\n",
    "update = tf.assign(state, new_value)\n",
    "\n",
    "init_op = tf.global_variables_initializer()\n",
    "\n",
    "with tf.Session() as session:\n",
    "    result = session.run(init_op)\n",
    "    print(session.run(state))\n",
    "    for i in range(3):\n",
    "        session.run(update)\n",
    "        print(session.run(state))"
   ]
  },
  {
   "cell_type": "code",
   "execution_count": 6,
   "metadata": {},
   "outputs": [
    {
     "name": "stdout",
     "output_type": "stream",
     "text": [
      "7.0\n",
      "[[[ 2.  4.  6.]\n",
      "  [ 8. 10. 12.]]\n",
      "\n",
      " [[ 3.  5.  7.]\n",
      "  [ 9. 11. 13.]]]\n"
     ]
    }
   ],
   "source": [
    "# Placeholders\n",
    "# needed to feed data to your model from outside, need datatype\n",
    "# data is passed to the model with the feed_dict argument (each placeholder named followed by its respective data)\n",
    "a = tf.placeholder(tf.float32)\n",
    "b = a * 2\n",
    "with tf.Session() as session:\n",
    "    result = session.run(b, feed_dict={a:3.5})\n",
    "    print(result)\n",
    "    \n",
    "    new_dict = {a: [[[1,2,3],[4,5,6]], [[1.5,2.5,3.5],[4.5,5.5,6.5]]]}\n",
    "    result = session.run(b, feed_dict=new_dict)\n",
    "    print(result)"
   ]
  }
 ],
 "metadata": {
  "kernelspec": {
   "display_name": "Python (ai_env)",
   "language": "python",
   "name": "ai_env"
  },
  "language_info": {
   "codemirror_mode": {
    "name": "ipython",
    "version": 3
   },
   "file_extension": ".py",
   "mimetype": "text/x-python",
   "name": "python",
   "nbconvert_exporter": "python",
   "pygments_lexer": "ipython3",
   "version": "3.6.8"
  }
 },
 "nbformat": 4,
 "nbformat_minor": 2
}
